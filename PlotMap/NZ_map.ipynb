{
 "cells": [
  {
   "cell_type": "code",
   "execution_count": 6,
   "metadata": {
    "collapsed": false
   },
   "outputs": [],
   "source": [
    "from mpl_toolkits.basemap import Basemap, shiftgrid, cm\n",
    "import numpy as np\n",
    "import matplotlib.pyplot as plt\n",
    "import networkx as nx"
   ]
  },
  {
   "cell_type": "code",
   "execution_count": 7,
   "metadata": {
    "collapsed": false
   },
   "outputs": [],
   "source": [
    "#%matplotlib inline \n",
    "\n",
    "#plt.rcParams['figure.figsize'] = [15, 15.]\n",
    "#plt.rcParams['font.size'] = 12"
   ]
  },
  {
   "cell_type": "code",
   "execution_count": 8,
   "metadata": {
    "collapsed": false
   },
   "outputs": [],
   "source": [
    "# create new figure, axes instances.\n",
    "\n",
    "# setup mercator map projection.\n",
    "m = Basemap(llcrnrlon=160.,llcrnrlat=-52.,urcrnrlon=185.,urcrnrlat=-30.,\\\n",
    "            resolution='l',projection='mill')\n",
    "\n",
    "#m.etopo()\n",
    "m.drawcoastlines()\n",
    "m.drawcountries()\n",
    "m.fillcontinents()\n",
    "#m.drawmapboundary()\n",
    "#m.bluemarble()\n",
    "# draw parallels\n",
    "m.drawparallels(np.arange(-90,90,5),labels=[1,1,0,1])\n",
    "# draw meridians\n",
    "m.drawmeridians(np.arange(-180,180,5),labels=[1,1,0,1])\n",
    "plt.title('Test Map')\n",
    "plt.show(1)"
   ]
  },
  {
   "cell_type": "code",
   "execution_count": 10,
   "metadata": {
    "collapsed": false
   },
   "outputs": [],
   "source": [
    "##### setup Lambert Conformal basemap.\n",
    "# set resolution=None to skip processing of boundary datasets.\n",
    "m = Basemap(width=10000000,height=12500000,projection='lcc',\n",
    "            resolution='i',lat_1=45.,lat_2=55,lat_0=-40,lon_0=173.)\n",
    "\n",
    "m.drawparallels(np.arange(-90,90,10),labels=[1,1,0,1])\n",
    "m.drawmeridians(np.arange(-180,180,10),labels=[1,1,0,1])\n",
    "m.etopo()\n",
    "plt.show(2)"
   ]
  },
  {
   "cell_type": "code",
   "execution_count": null,
   "metadata": {
    "collapsed": true
   },
   "outputs": [],
   "source": []
  }
 ],
 "metadata": {
  "kernelspec": {
   "display_name": "Python 2",
   "language": "python",
   "name": "python2"
  },
  "language_info": {
   "codemirror_mode": {
    "name": "ipython",
    "version": 2
   },
   "file_extension": ".py",
   "mimetype": "text/x-python",
   "name": "python",
   "nbconvert_exporter": "python",
   "pygments_lexer": "ipython2",
   "version": "2.7.11"
  }
 },
 "nbformat": 4,
 "nbformat_minor": 0
}
